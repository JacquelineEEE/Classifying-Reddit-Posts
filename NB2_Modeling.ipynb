{
 "cells": [
  {
   "cell_type": "markdown",
   "metadata": {},
   "source": [
    "#i need to pull some things in from the other notebook to make it work, like `my_stop_words`, and possibly other things."
   ]
  },
  {
   "cell_type": "code",
   "execution_count": 2,
   "metadata": {},
   "outputs": [],
   "source": [
    "import pandas as pd\n",
    "\n",
    "from sklearn.model_selection import train_test_split\n",
    "from sklearn.metrics import confusion_matrix, classification_report, accuracy_score\n",
    "from sklearn import svm, tree\n",
    "from sklearn.neighbors import KNeighborsClassifier\n",
    "from sklearn.model_selection import GridSearchCV\n",
    "from sklearn.linear_model import LogisticRegression\n",
    "from sklearn.naive_bayes import MultinomialNB, GaussianNB\n",
    "from sklearn.feature_extraction.text import CountVectorizer, TfidfVectorizer, ENGLISH_STOP_WORDS\n",
    "\n",
    "\n",
    "import matplotlib.pyplot as plt\n",
    "import seaborn as sns\n",
    "\n",
    "%matplotlib inline"
   ]
  },
  {
   "cell_type": "code",
   "execution_count": 3,
   "metadata": {},
   "outputs": [],
   "source": [
    "df = pd.read_csv('df.csv')"
   ]
  },
  {
   "cell_type": "code",
   "execution_count": 4,
   "metadata": {},
   "outputs": [
    {
     "data": {
      "text/html": [
       "<div>\n",
       "<style scoped>\n",
       "    .dataframe tbody tr th:only-of-type {\n",
       "        vertical-align: middle;\n",
       "    }\n",
       "\n",
       "    .dataframe tbody tr th {\n",
       "        vertical-align: top;\n",
       "    }\n",
       "\n",
       "    .dataframe thead th {\n",
       "        text-align: right;\n",
       "    }\n",
       "</style>\n",
       "<table border=\"1\" class=\"dataframe\">\n",
       "  <thead>\n",
       "    <tr style=\"text-align: right;\">\n",
       "      <th></th>\n",
       "      <th>Body Text</th>\n",
       "      <th>Sub Reddit</th>\n",
       "    </tr>\n",
       "  </thead>\n",
       "  <tbody>\n",
       "    <tr>\n",
       "      <th>0</th>\n",
       "      <td>This is a weekly thread for offtopic discussio...</td>\n",
       "      <td>Fact</td>\n",
       "    </tr>\n",
       "    <tr>\n",
       "      <th>1</th>\n",
       "      <td>On Oct. 15, 2018, 13-year-old Jayme Closs was ...</td>\n",
       "      <td>Fact</td>\n",
       "    </tr>\n",
       "    <tr>\n",
       "      <th>2</th>\n",
       "      <td>Bardstown, Kentucky is rich in history. It is ...</td>\n",
       "      <td>Fact</td>\n",
       "    </tr>\n",
       "  </tbody>\n",
       "</table>\n",
       "</div>"
      ],
      "text/plain": [
       "                                           Body Text Sub Reddit\n",
       "0  This is a weekly thread for offtopic discussio...       Fact\n",
       "1  On Oct. 15, 2018, 13-year-old Jayme Closs was ...       Fact\n",
       "2  Bardstown, Kentucky is rich in history. It is ...       Fact"
      ]
     },
     "execution_count": 4,
     "metadata": {},
     "output_type": "execute_result"
    }
   ],
   "source": [
    "df[:3]"
   ]
  },
  {
   "cell_type": "code",
   "execution_count": 5,
   "metadata": {},
   "outputs": [
    {
     "data": {
      "text/plain": [
       "(1407, 2)"
      ]
     },
     "execution_count": 5,
     "metadata": {},
     "output_type": "execute_result"
    }
   ],
   "source": [
    "df.shape"
   ]
  },
  {
   "cell_type": "code",
   "execution_count": 6,
   "metadata": {},
   "outputs": [
    {
     "data": {
      "text/plain": [
       "Body Text     1407\n",
       "Sub Reddit       2\n",
       "dtype: int64"
      ]
     },
     "execution_count": 6,
     "metadata": {},
     "output_type": "execute_result"
    }
   ],
   "source": [
    "df.nunique()"
   ]
  },
  {
   "cell_type": "markdown",
   "metadata": {},
   "source": [
    "#### Setting up stop words and preprocessing techniques."
   ]
  },
  {
   "cell_type": "code",
   "execution_count": 8,
   "metadata": {},
   "outputs": [],
   "source": [
    "my_stop = list(ENGLISH_STOP_WORDS)\n",
    "my_stop.extend(['https', 'x200b', 'www', \n",
    "                'com', 'amp', 'just', \n",
    "                'didn', 'don', 'did',\n",
    "                'org', 'gt', 'wasn', 've'])\n",
    "\n",
    "cv = CountVectorizer(min_df=25, stop_words=my_stop)\n",
    "tfid = TfidfVectorizer(stop_words=my_stop)"
   ]
  },
  {
   "cell_type": "markdown",
   "metadata": {},
   "source": [
    "### Modeling\n",
    "\n",
    "- Trying logistic regression, multinomial and gaussian naive bayes, and knn.\n",
    "- Using count vectorizer for lr, mnb, and knn (sparse matrix)\n",
    "- Using tfidf for gnb (dense matrix)\n"
   ]
  },
  {
   "cell_type": "code",
   "execution_count": 9,
   "metadata": {},
   "outputs": [],
   "source": [
    "#models\n",
    "lr = LogisticRegression()\n",
    "mnb = MultinomialNB()\n",
    "gnb = GaussianNB()\n",
    "knn = KNeighborsClassifier()\n",
    "\n",
    "#svm and tree also avaialble"
   ]
  },
  {
   "cell_type": "code",
   "execution_count": 10,
   "metadata": {},
   "outputs": [],
   "source": [
    "X = df['Body Text']\n",
    "y = df['Sub Reddit']"
   ]
  },
  {
   "cell_type": "code",
   "execution_count": 11,
   "metadata": {},
   "outputs": [
    {
     "data": {
      "text/plain": [
       "Fict    0.557925\n",
       "Fact    0.442075\n",
       "Name: Sub Reddit, dtype: float64"
      ]
     },
     "execution_count": 11,
     "metadata": {},
     "output_type": "execute_result"
    }
   ],
   "source": [
    "y.value_counts(normalize=True) "
   ]
  },
  {
   "cell_type": "code",
   "execution_count": 12,
   "metadata": {},
   "outputs": [],
   "source": [
    "X_train, X_test, y_train, y_test = train_test_split(X,\n",
    "                                                    y,\n",
    "                                                    random_state=42)"
   ]
  },
  {
   "cell_type": "code",
   "execution_count": 13,
   "metadata": {},
   "outputs": [
    {
     "name": "stdout",
     "output_type": "stream",
     "text": [
      "(1055,)\n",
      "(1055,)\n",
      "(352,)\n",
      "(352,)\n"
     ]
    }
   ],
   "source": [
    "print(X_train.shape)\n",
    "print(y_train.shape)\n",
    "print(X_test.shape)\n",
    "print(y_test.shape)"
   ]
  },
  {
   "cell_type": "code",
   "execution_count": 40,
   "metadata": {},
   "outputs": [],
   "source": [
    "#transforming using countvec (for lr, knn, mnb)\n",
    "X_train_sm = cv.fit_transform(X_train)\n",
    "X_test_sm = cv.transform(X_test)"
   ]
  },
  {
   "cell_type": "code",
   "execution_count": 41,
   "metadata": {},
   "outputs": [
    {
     "name": "stdout",
     "output_type": "stream",
     "text": [
      "(1055, 3094)\n",
      "(1055,)\n",
      "(352, 3094)\n",
      "(352,)\n"
     ]
    }
   ],
   "source": [
    "#checking the shape of the sparse matrices \n",
    "print(X_train_sm.shape)\n",
    "print(y_train.shape)\n",
    "print(X_test_sm.shape)\n",
    "print(y_test.shape)"
   ]
  },
  {
   "cell_type": "code",
   "execution_count": 42,
   "metadata": {},
   "outputs": [
    {
     "data": {
      "text/plain": [
       "3094"
      ]
     },
     "execution_count": 42,
     "metadata": {},
     "output_type": "execute_result"
    }
   ],
   "source": [
    "len(cv.get_feature_names())"
   ]
  },
  {
   "cell_type": "code",
   "execution_count": 17,
   "metadata": {},
   "outputs": [],
   "source": [
    "#transforming using tfid (for gnb)\n",
    "X_train_tf = tfid.fit_transform(X_train).todense()\n",
    "X_test_tf = tfid.transform(X_test).todense()"
   ]
  },
  {
   "cell_type": "code",
   "execution_count": 18,
   "metadata": {},
   "outputs": [
    {
     "name": "stdout",
     "output_type": "stream",
     "text": [
      "(1055, 36298)\n",
      "(352, 36298)\n"
     ]
    }
   ],
   "source": [
    "#checking the shape of the dense matrices \n",
    "print(X_train_tf.shape)\n",
    "print(X_test_tf.shape)"
   ]
  },
  {
   "cell_type": "code",
   "execution_count": 19,
   "metadata": {},
   "outputs": [],
   "source": [
    "models = [lr, knn, mnb, gnb]"
   ]
  },
  {
   "cell_type": "code",
   "execution_count": 20,
   "metadata": {},
   "outputs": [
    {
     "name": "stderr",
     "output_type": "stream",
     "text": [
      "/anaconda3/lib/python3.7/site-packages/sklearn/linear_model/logistic.py:433: FutureWarning: Default solver will be changed to 'lbfgs' in 0.22. Specify a solver to silence this warning.\n",
      "  FutureWarning)\n"
     ]
    }
   ],
   "source": [
    "#all work with cv and sparse matrix\n",
    "for model in models[:3]:\n",
    "    model.fit(X_train_sm, y_train)"
   ]
  },
  {
   "cell_type": "code",
   "execution_count": 21,
   "metadata": {},
   "outputs": [
    {
     "data": {
      "text/plain": [
       "GaussianNB(priors=None, var_smoothing=1e-09)"
      ]
     },
     "execution_count": 21,
     "metadata": {},
     "output_type": "execute_result"
    }
   ],
   "source": [
    "#dense matrix\n",
    "gnb.fit(X_train_tf, y_train)"
   ]
  },
  {
   "cell_type": "code",
   "execution_count": 22,
   "metadata": {},
   "outputs": [],
   "source": [
    "def scores(model, \n",
    "           X_train=X_train, \n",
    "           y_train=y_train, \n",
    "           X_test=X_test, \n",
    "           y_test=y_test):\n",
    "    print(f'train score: {model.score(X_train, y_train)}')\n",
    "    print(f'test score: {model.score(X_test, y_test)}')"
   ]
  },
  {
   "cell_type": "code",
   "execution_count": 23,
   "metadata": {},
   "outputs": [
    {
     "name": "stdout",
     "output_type": "stream",
     "text": [
      "train score: 1.0\n",
      "test score: 1.0\n",
      "None\n",
      "Model goes with ^^.\n",
      "LogisticRegression(C=1.0, class_weight=None, dual=False, fit_intercept=True,\n",
      "          intercept_scaling=1, max_iter=100, multi_class='warn',\n",
      "          n_jobs=None, penalty='l2', random_state=None, solver='warn',\n",
      "          tol=0.0001, verbose=0, warm_start=False)\n",
      "\n",
      "\n",
      "\n",
      "train score: 0.7895734597156399\n",
      "test score: 0.75\n",
      "None\n",
      "Model goes with ^^.\n",
      "KNeighborsClassifier(algorithm='auto', leaf_size=30, metric='minkowski',\n",
      "           metric_params=None, n_jobs=None, n_neighbors=5, p=2,\n",
      "           weights='uniform')\n",
      "\n",
      "\n",
      "\n",
      "train score: 0.9933649289099526\n",
      "test score: 0.9971590909090909\n",
      "None\n",
      "Model goes with ^^.\n",
      "MultinomialNB(alpha=1.0, class_prior=None, fit_prior=True)\n",
      "\n",
      "\n",
      "\n"
     ]
    }
   ],
   "source": [
    "for model in models[:3]:\n",
    "    model_score = scores(model, X_train_sm, y_train, X_test_sm, y_test)\n",
    "    \n",
    "    #how do i get it to just pull out the model name, that's what i want \n",
    "    \n",
    "    \n",
    "    print(model_score)\n",
    "    print('Model goes with ^^.')\n",
    "    print(model)\n",
    "    print('')\n",
    "    print('')\n",
    "    print('')\n",
    "    \n",
    "    "
   ]
  },
  {
   "cell_type": "code",
   "execution_count": 24,
   "metadata": {},
   "outputs": [
    {
     "name": "stdout",
     "output_type": "stream",
     "text": [
      "train score: 1.0\n",
      "test score: 0.8835227272727273\n"
     ]
    }
   ],
   "source": [
    "scores(gnb, X_train_tf, y_train, X_test_tf, y_test) #dense matrix with tfid "
   ]
  },
  {
   "cell_type": "markdown",
   "metadata": {},
   "source": [
    "Looking at `predictions` for all four models."
   ]
  },
  {
   "cell_type": "code",
   "execution_count": 25,
   "metadata": {},
   "outputs": [],
   "source": [
    "def preds_df(model, X_test=X_test):\n",
    "    prediction = model.predict(X_test)\n",
    "    pred_df = pd.DataFrame(prediction).rename({0:'Preds'}, axis=1)\n",
    "    \n",
    "    return pred_df"
   ]
  },
  {
   "cell_type": "code",
   "execution_count": 26,
   "metadata": {},
   "outputs": [
    {
     "data": {
      "text/html": [
       "<div>\n",
       "<style scoped>\n",
       "    .dataframe tbody tr th:only-of-type {\n",
       "        vertical-align: middle;\n",
       "    }\n",
       "\n",
       "    .dataframe tbody tr th {\n",
       "        vertical-align: top;\n",
       "    }\n",
       "\n",
       "    .dataframe thead th {\n",
       "        text-align: right;\n",
       "    }\n",
       "</style>\n",
       "<table border=\"1\" class=\"dataframe\">\n",
       "  <thead>\n",
       "    <tr style=\"text-align: right;\">\n",
       "      <th></th>\n",
       "      <th>lr preds</th>\n",
       "      <th>knn preds</th>\n",
       "      <th>mnb preds</th>\n",
       "      <th>gnb preds</th>\n",
       "      <th>y true</th>\n",
       "    </tr>\n",
       "  </thead>\n",
       "  <tbody>\n",
       "    <tr>\n",
       "      <th>0</th>\n",
       "      <td>Fact</td>\n",
       "      <td>Fact</td>\n",
       "      <td>Fact</td>\n",
       "      <td>Fact</td>\n",
       "      <td>Fact</td>\n",
       "    </tr>\n",
       "    <tr>\n",
       "      <th>1</th>\n",
       "      <td>Fict</td>\n",
       "      <td>Fact</td>\n",
       "      <td>Fict</td>\n",
       "      <td>Fict</td>\n",
       "      <td>Fict</td>\n",
       "    </tr>\n",
       "    <tr>\n",
       "      <th>2</th>\n",
       "      <td>Fict</td>\n",
       "      <td>Fict</td>\n",
       "      <td>Fict</td>\n",
       "      <td>Fict</td>\n",
       "      <td>Fict</td>\n",
       "    </tr>\n",
       "    <tr>\n",
       "      <th>3</th>\n",
       "      <td>Fact</td>\n",
       "      <td>Fact</td>\n",
       "      <td>Fact</td>\n",
       "      <td>Fact</td>\n",
       "      <td>Fact</td>\n",
       "    </tr>\n",
       "    <tr>\n",
       "      <th>4</th>\n",
       "      <td>Fict</td>\n",
       "      <td>Fact</td>\n",
       "      <td>Fict</td>\n",
       "      <td>Fict</td>\n",
       "      <td>Fict</td>\n",
       "    </tr>\n",
       "  </tbody>\n",
       "</table>\n",
       "</div>"
      ],
      "text/plain": [
       "  lr preds knn preds mnb preds gnb preds y true\n",
       "0     Fact      Fact      Fact      Fact   Fact\n",
       "1     Fict      Fact      Fict      Fict   Fict\n",
       "2     Fict      Fict      Fict      Fict   Fict\n",
       "3     Fact      Fact      Fact      Fact   Fact\n",
       "4     Fict      Fact      Fict      Fict   Fict"
      ]
     },
     "execution_count": 26,
     "metadata": {},
     "output_type": "execute_result"
    }
   ],
   "source": [
    "lr_preds = preds_df(lr, X_test_sm)\n",
    "mnb_preds = preds_df(mnb, X_test_sm)\n",
    "gnb_preds = preds_df(gnb, X_test_tf)\n",
    "knn_preds = preds_df(knn, X_test_sm)\n",
    "y_test_df = pd.DataFrame(y_test) #want to see as comparison\n",
    "\n",
    "y_test_df.reset_index(drop=True, inplace=True)\n",
    "\n",
    "preds_list = [lr_preds,\n",
    "              knn_preds,\n",
    "              mnb_preds, \n",
    "              gnb_preds,\n",
    "              y_test_df]\n",
    "\n",
    "#combine into a single dataframe\n",
    "predictions_df = pd.concat(preds_list, axis=1)\n",
    "\n",
    "#rename columns to match the model\n",
    "predictions_df.columns = ['lr preds', \n",
    "                          'knn preds', \n",
    "                          'mnb preds',\n",
    "                          'gnb preds',\n",
    "                          'y true']\n",
    "\n",
    "#this will allow me to find the specific errors in each model \n",
    "predictions_df[:5]\n",
    "    "
   ]
  },
  {
   "cell_type": "markdown",
   "metadata": {},
   "source": [
    "**Looking at the `confusion matrices` for the four models.** "
   ]
  },
  {
   "cell_type": "code",
   "execution_count": 27,
   "metadata": {},
   "outputs": [
    {
     "data": {
      "text/plain": [
       "array([[152,   0],\n",
       "       [  0, 200]])"
      ]
     },
     "execution_count": 27,
     "metadata": {},
     "output_type": "execute_result"
    }
   ],
   "source": [
    "lr_preds = lr.predict(X_test_sm)\n",
    "confusion_matrix(y_test, lr_preds)"
   ]
  },
  {
   "cell_type": "code",
   "execution_count": 28,
   "metadata": {},
   "outputs": [
    {
     "data": {
      "text/plain": [
       "array([[122,  30],\n",
       "       [ 11, 189]])"
      ]
     },
     "execution_count": 28,
     "metadata": {},
     "output_type": "execute_result"
    }
   ],
   "source": [
    "gnb_preds = gnb.predict(X_test_tf)\n",
    "confusion_matrix(y_test, gnb_preds)"
   ]
  },
  {
   "cell_type": "code",
   "execution_count": 29,
   "metadata": {},
   "outputs": [
    {
     "data": {
      "text/plain": [
       "array([[152,   0],\n",
       "       [ 88, 112]])"
      ]
     },
     "execution_count": 29,
     "metadata": {},
     "output_type": "execute_result"
    }
   ],
   "source": [
    "knn_preds = knn.predict(X_test_sm)\n",
    "confusion_matrix(y_test, knn_preds)"
   ]
  },
  {
   "cell_type": "code",
   "execution_count": 30,
   "metadata": {},
   "outputs": [
    {
     "data": {
      "text/plain": [
       "array([[151,   1],\n",
       "       [  0, 200]])"
      ]
     },
     "execution_count": 30,
     "metadata": {},
     "output_type": "execute_result"
    }
   ],
   "source": [
    "mnb_preds = mnb.predict(X_test_sm)\n",
    "confusion_matrix(y_test, mnb_preds)"
   ]
  },
  {
   "cell_type": "markdown",
   "metadata": {},
   "source": [
    "### Visualization and Interpretation"
   ]
  },
  {
   "cell_type": "code",
   "execution_count": 43,
   "metadata": {},
   "outputs": [
    {
     "data": {
      "text/html": [
       "<div>\n",
       "<style scoped>\n",
       "    .dataframe tbody tr th:only-of-type {\n",
       "        vertical-align: middle;\n",
       "    }\n",
       "\n",
       "    .dataframe tbody tr th {\n",
       "        vertical-align: top;\n",
       "    }\n",
       "\n",
       "    .dataframe thead th {\n",
       "        text-align: right;\n",
       "    }\n",
       "</style>\n",
       "<table border=\"1\" class=\"dataframe\">\n",
       "  <thead>\n",
       "    <tr style=\"text-align: right;\">\n",
       "      <th></th>\n",
       "      <th>00</th>\n",
       "      <th>000</th>\n",
       "      <th>01</th>\n",
       "      <th>02</th>\n",
       "      <th>04</th>\n",
       "      <th>06</th>\n",
       "      <th>07</th>\n",
       "      <th>08</th>\n",
       "      <th>09</th>\n",
       "      <th>10</th>\n",
       "      <th>...</th>\n",
       "      <th>yelled</th>\n",
       "      <th>yelling</th>\n",
       "      <th>yellow</th>\n",
       "      <th>yes</th>\n",
       "      <th>yesterday</th>\n",
       "      <th>york</th>\n",
       "      <th>young</th>\n",
       "      <th>younger</th>\n",
       "      <th>youtu</th>\n",
       "      <th>youtube</th>\n",
       "    </tr>\n",
       "  </thead>\n",
       "  <tbody>\n",
       "    <tr>\n",
       "      <th>0</th>\n",
       "      <td>0</td>\n",
       "      <td>0</td>\n",
       "      <td>0</td>\n",
       "      <td>0</td>\n",
       "      <td>2</td>\n",
       "      <td>0</td>\n",
       "      <td>2</td>\n",
       "      <td>0</td>\n",
       "      <td>0</td>\n",
       "      <td>0</td>\n",
       "      <td>...</td>\n",
       "      <td>0</td>\n",
       "      <td>0</td>\n",
       "      <td>0</td>\n",
       "      <td>0</td>\n",
       "      <td>0</td>\n",
       "      <td>3</td>\n",
       "      <td>0</td>\n",
       "      <td>0</td>\n",
       "      <td>0</td>\n",
       "      <td>0</td>\n",
       "    </tr>\n",
       "    <tr>\n",
       "      <th>1</th>\n",
       "      <td>0</td>\n",
       "      <td>0</td>\n",
       "      <td>0</td>\n",
       "      <td>0</td>\n",
       "      <td>0</td>\n",
       "      <td>0</td>\n",
       "      <td>0</td>\n",
       "      <td>0</td>\n",
       "      <td>0</td>\n",
       "      <td>0</td>\n",
       "      <td>...</td>\n",
       "      <td>0</td>\n",
       "      <td>0</td>\n",
       "      <td>0</td>\n",
       "      <td>1</td>\n",
       "      <td>0</td>\n",
       "      <td>0</td>\n",
       "      <td>1</td>\n",
       "      <td>0</td>\n",
       "      <td>0</td>\n",
       "      <td>0</td>\n",
       "    </tr>\n",
       "    <tr>\n",
       "      <th>2</th>\n",
       "      <td>0</td>\n",
       "      <td>0</td>\n",
       "      <td>0</td>\n",
       "      <td>0</td>\n",
       "      <td>0</td>\n",
       "      <td>0</td>\n",
       "      <td>0</td>\n",
       "      <td>0</td>\n",
       "      <td>0</td>\n",
       "      <td>0</td>\n",
       "      <td>...</td>\n",
       "      <td>0</td>\n",
       "      <td>1</td>\n",
       "      <td>1</td>\n",
       "      <td>3</td>\n",
       "      <td>0</td>\n",
       "      <td>0</td>\n",
       "      <td>1</td>\n",
       "      <td>1</td>\n",
       "      <td>0</td>\n",
       "      <td>0</td>\n",
       "    </tr>\n",
       "    <tr>\n",
       "      <th>3</th>\n",
       "      <td>0</td>\n",
       "      <td>0</td>\n",
       "      <td>0</td>\n",
       "      <td>0</td>\n",
       "      <td>0</td>\n",
       "      <td>0</td>\n",
       "      <td>0</td>\n",
       "      <td>0</td>\n",
       "      <td>0</td>\n",
       "      <td>0</td>\n",
       "      <td>...</td>\n",
       "      <td>0</td>\n",
       "      <td>0</td>\n",
       "      <td>0</td>\n",
       "      <td>1</td>\n",
       "      <td>0</td>\n",
       "      <td>0</td>\n",
       "      <td>0</td>\n",
       "      <td>0</td>\n",
       "      <td>0</td>\n",
       "      <td>0</td>\n",
       "    </tr>\n",
       "    <tr>\n",
       "      <th>4</th>\n",
       "      <td>0</td>\n",
       "      <td>0</td>\n",
       "      <td>0</td>\n",
       "      <td>1</td>\n",
       "      <td>0</td>\n",
       "      <td>1</td>\n",
       "      <td>0</td>\n",
       "      <td>0</td>\n",
       "      <td>0</td>\n",
       "      <td>0</td>\n",
       "      <td>...</td>\n",
       "      <td>0</td>\n",
       "      <td>0</td>\n",
       "      <td>0</td>\n",
       "      <td>0</td>\n",
       "      <td>0</td>\n",
       "      <td>0</td>\n",
       "      <td>0</td>\n",
       "      <td>0</td>\n",
       "      <td>0</td>\n",
       "      <td>0</td>\n",
       "    </tr>\n",
       "  </tbody>\n",
       "</table>\n",
       "<p>5 rows × 3094 columns</p>\n",
       "</div>"
      ],
      "text/plain": [
       "   00  000  01  02  04  06  07  08  09  10  ...  yelled  yelling  yellow  yes  \\\n",
       "0   0    0   0   0   2   0   2   0   0   0  ...       0        0       0    0   \n",
       "1   0    0   0   0   0   0   0   0   0   0  ...       0        0       0    1   \n",
       "2   0    0   0   0   0   0   0   0   0   0  ...       0        1       1    3   \n",
       "3   0    0   0   0   0   0   0   0   0   0  ...       0        0       0    1   \n",
       "4   0    0   0   1   0   1   0   0   0   0  ...       0        0       0    0   \n",
       "\n",
       "   yesterday  york  young  younger  youtu  youtube  \n",
       "0          0     3      0        0      0        0  \n",
       "1          0     0      1        0      0        0  \n",
       "2          0     0      1        1      0        0  \n",
       "3          0     0      0        0      0        0  \n",
       "4          0     0      0        0      0        0  \n",
       "\n",
       "[5 rows x 3094 columns]"
      ]
     },
     "execution_count": 43,
     "metadata": {},
     "output_type": "execute_result"
    }
   ],
   "source": [
    "#training data df\n",
    "\n",
    "dense_matrix = X_train_sm.todense()\n",
    "\n",
    "feature_df = pd.DataFrame(dense_matrix, columns=cv.get_feature_names())\n",
    "feature_df.head()"
   ]
  },
  {
   "cell_type": "code",
   "execution_count": 45,
   "metadata": {},
   "outputs": [
    {
     "data": {
      "text/plain": [
       "(1055, 3094)"
      ]
     },
     "execution_count": 45,
     "metadata": {},
     "output_type": "execute_result"
    }
   ],
   "source": [
    "feature_df.shape"
   ]
  },
  {
   "cell_type": "code",
   "execution_count": 46,
   "metadata": {},
   "outputs": [],
   "source": [
    "fact_df = pd.read_csv('fact_df.csv')\n",
    "fict_df = pd.read_csv('fict_df.csv')"
   ]
  },
  {
   "cell_type": "code",
   "execution_count": 47,
   "metadata": {},
   "outputs": [
    {
     "name": "stdout",
     "output_type": "stream",
     "text": [
      "(1407, 2)\n",
      "(1055, 3094)\n",
      "(1240, 2)\n",
      "(1238, 2)\n"
     ]
    }
   ],
   "source": [
    "print(df.shape)\n",
    "print(feature_df.shape)\n",
    "print(fact_df.shape)\n",
    "print(fict_df.shape)"
   ]
  },
  {
   "cell_type": "code",
   "execution_count": 48,
   "metadata": {},
   "outputs": [
    {
     "data": {
      "text/plain": [
       "Fict    785\n",
       "Fact    622\n",
       "Name: Sub Reddit, dtype: int64"
      ]
     },
     "execution_count": 48,
     "metadata": {},
     "output_type": "execute_result"
    }
   ],
   "source": [
    "df['Sub Reddit'].value_counts()"
   ]
  },
  {
   "cell_type": "code",
   "execution_count": 49,
   "metadata": {},
   "outputs": [],
   "source": [
    "#setting it up to visualize the most used words in each\n",
    "fact = feature_df.loc[df['Sub Reddit'] == 'Fact', :].copy()\n",
    "fiction = feature_df.loc[df['Sub Reddit'] == 'Fict'].copy()"
   ]
  },
  {
   "cell_type": "code",
   "execution_count": 50,
   "metadata": {},
   "outputs": [
    {
     "data": {
      "image/png": "[encoded data removed]",
      "text/plain": [
       "<Figure size 432x288 with 1 Axes>"
      ]
     },
     "metadata": {
      "needs_background": "light"
     },
     "output_type": "display_data"
    }
   ],
   "source": [
    "feature_df.sum().sort_values(ascending=False).\\\n",
    "head(20).plot.barh(title='Both Subreddits');"
   ]
  },
  {
   "cell_type": "markdown",
   "metadata": {},
   "source": [
    "**Comparing the most common fact and fiction words**"
   ]
  },
  {
   "cell_type": "code",
   "execution_count": 51,
   "metadata": {},
   "outputs": [
    {
     "data": {
      "image/png": "[encoded data removed]",
      "text/plain": [
       "<Figure size 432x288 with 1 Axes>"
      ]
     },
     "metadata": {
      "needs_background": "light"
     },
     "output_type": "display_data"
    }
   ],
   "source": [
    "most_fact = fact.sum().sort_values(ascending=False).head(20)\n",
    "most_fact.plot.barh(title='Top 20 Fact Words', \n",
    "                    x='Word Totals', \n",
    "                    y='Words');"
   ]
  },
  {
   "cell_type": "code",
   "execution_count": 52,
   "metadata": {},
   "outputs": [
    {
     "data": {
      "image/png": "[encoded data removed]",
      "text/plain": [
       "<Figure size 432x288 with 1 Axes>"
      ]
     },
     "metadata": {
      "needs_background": "light"
     },
     "output_type": "display_data"
    }
   ],
   "source": [
    "most_fict = fiction.sum().sort_values(ascending=False).head(20)\n",
    "most_fict.plot.barh(title='Top 20 Fiction Words');"
   ]
  },
  {
   "cell_type": "code",
   "execution_count": 53,
   "metadata": {},
   "outputs": [],
   "source": [
    "common_words = feature_df.sum().sort_values(ascending=False).head(20).index"
   ]
  },
  {
   "cell_type": "code",
   "execution_count": 54,
   "metadata": {},
   "outputs": [
    {
     "data": {
      "text/plain": [
       "<matplotlib.axes._subplots.AxesSubplot at 0x1a2d215c50>"
      ]
     },
     "execution_count": 54,
     "metadata": {},
     "output_type": "execute_result"
    },
    {
     "data": {
      "image/png": "[encoded data removed]",
      "text/plain": [
       "<Figure size 864x720 with 2 Axes>"
      ]
     },
     "metadata": {
      "needs_background": "light"
     },
     "output_type": "display_data"
    }
   ],
   "source": [
    "#need to update the range so visually I am looking at the same thing\n",
    "fig, (ax1, ax2) = plt.subplots(ncols=2, figsize=(12,10))\n",
    "fact[common_words].sum().plot.barh(ax=ax1, \n",
    "                                   title= 'Fact', \n",
    "                                   color='Navy')\n",
    "fiction[common_words].sum().plot.barh(ax=ax2, \n",
    "                                      title= 'Fiction', \n",
    "                                      color= 'Orange')"
   ]
  },
  {
   "cell_type": "code",
   "execution_count": 55,
   "metadata": {},
   "outputs": [
    {
     "data": {
      "text/plain": [
       "<matplotlib.axes._subplots.AxesSubplot at 0x1a4a23ee80>"
      ]
     },
     "execution_count": 55,
     "metadata": {},
     "output_type": "execute_result"
    },
    {
     "data": {
      "image/png": "[encoded data removed]",
      "text/plain": [
       "<Figure size 864x720 with 2 Axes>"
      ]
     },
     "metadata": {
      "needs_background": "light"
     },
     "output_type": "display_data"
    }
   ],
   "source": [
    "fig, (ax1, ax2) = plt.subplots(ncols=2, figsize=(12,10))\n",
    "\n",
    "fact[most_fact.index].sum().plot.barh(ax=ax1, \n",
    "                                   title= 'Fact', \n",
    "                                   color='Navy')\n",
    "fiction[most_fact.index].sum().plot.barh(ax=ax2, \n",
    "                                      title= 'Fiction', \n",
    "                                      color= 'Orange')"
   ]
  },
  {
   "cell_type": "code",
   "execution_count": 56,
   "metadata": {},
   "outputs": [
    {
     "data": {
      "text/plain": [
       "<matplotlib.axes._subplots.AxesSubplot at 0x1a22da6320>"
      ]
     },
     "execution_count": 56,
     "metadata": {},
     "output_type": "execute_result"
    },
    {
     "data": {
      "image/png": "[encoded data removed]",
      "text/plain": [
       "<Figure size 864x720 with 2 Axes>"
      ]
     },
     "metadata": {
      "needs_background": "light"
     },
     "output_type": "display_data"
    }
   ],
   "source": [
    "fig, (ax1, ax2) = plt.subplots(ncols=2, figsize=(12,10))\n",
    "\n",
    "fact[most_fict.index].sum().plot.barh(ax=ax1, \n",
    "                                   title= 'Fact', \n",
    "                                   color='Navy')\n",
    "fiction[most_fict.index].sum().plot.barh(ax=ax2, \n",
    "                                      title= 'Fiction', \n",
    "                                      color= 'Orange')"
   ]
  },
  {
   "cell_type": "code",
   "execution_count": 57,
   "metadata": {},
   "outputs": [
    {
     "data": {
      "text/html": [
       "<div>\n",
       "<style scoped>\n",
       "    .dataframe tbody tr th:only-of-type {\n",
       "        vertical-align: middle;\n",
       "    }\n",
       "\n",
       "    .dataframe tbody tr th {\n",
       "        vertical-align: top;\n",
       "    }\n",
       "\n",
       "    .dataframe thead th {\n",
       "        text-align: right;\n",
       "    }\n",
       "</style>\n",
       "<table border=\"1\" class=\"dataframe\">\n",
       "  <thead>\n",
       "    <tr style=\"text-align: right;\">\n",
       "      <th>Sub Reddit</th>\n",
       "      <th>Fact</th>\n",
       "      <th>Fict</th>\n",
       "      <th>Abs Diff</th>\n",
       "    </tr>\n",
       "  </thead>\n",
       "  <tbody>\n",
       "    <tr>\n",
       "      <th>said</th>\n",
       "      <td>2338</td>\n",
       "      <td>1742</td>\n",
       "      <td>596</td>\n",
       "    </tr>\n",
       "    <tr>\n",
       "      <th>time</th>\n",
       "      <td>2122</td>\n",
       "      <td>1529</td>\n",
       "      <td>593</td>\n",
       "    </tr>\n",
       "    <tr>\n",
       "      <th>door</th>\n",
       "      <td>1434</td>\n",
       "      <td>875</td>\n",
       "      <td>559</td>\n",
       "    </tr>\n",
       "    <tr>\n",
       "      <th>like</th>\n",
       "      <td>2769</td>\n",
       "      <td>2231</td>\n",
       "      <td>538</td>\n",
       "    </tr>\n",
       "    <tr>\n",
       "      <th>man</th>\n",
       "      <td>1282</td>\n",
       "      <td>832</td>\n",
       "      <td>450</td>\n",
       "    </tr>\n",
       "    <tr>\n",
       "      <th>know</th>\n",
       "      <td>1717</td>\n",
       "      <td>1400</td>\n",
       "      <td>317</td>\n",
       "    </tr>\n",
       "    <tr>\n",
       "      <th>home</th>\n",
       "      <td>993</td>\n",
       "      <td>682</td>\n",
       "      <td>311</td>\n",
       "    </tr>\n",
       "    <tr>\n",
       "      <th>room</th>\n",
       "      <td>1110</td>\n",
       "      <td>823</td>\n",
       "      <td>287</td>\n",
       "    </tr>\n",
       "    <tr>\n",
       "      <th>day</th>\n",
       "      <td>949</td>\n",
       "      <td>670</td>\n",
       "      <td>279</td>\n",
       "    </tr>\n",
       "    <tr>\n",
       "      <th>got</th>\n",
       "      <td>1086</td>\n",
       "      <td>850</td>\n",
       "      <td>236</td>\n",
       "    </tr>\n",
       "    <tr>\n",
       "      <th>went</th>\n",
       "      <td>1042</td>\n",
       "      <td>813</td>\n",
       "      <td>229</td>\n",
       "    </tr>\n",
       "    <tr>\n",
       "      <th>house</th>\n",
       "      <td>919</td>\n",
       "      <td>690</td>\n",
       "      <td>229</td>\n",
       "    </tr>\n",
       "    <tr>\n",
       "      <th>away</th>\n",
       "      <td>949</td>\n",
       "      <td>721</td>\n",
       "      <td>228</td>\n",
       "    </tr>\n",
       "    <tr>\n",
       "      <th>eyes</th>\n",
       "      <td>1108</td>\n",
       "      <td>894</td>\n",
       "      <td>214</td>\n",
       "    </tr>\n",
       "    <tr>\n",
       "      <th>looked</th>\n",
       "      <td>1238</td>\n",
       "      <td>1028</td>\n",
       "      <td>210</td>\n",
       "    </tr>\n",
       "    <tr>\n",
       "      <th>night</th>\n",
       "      <td>1019</td>\n",
       "      <td>843</td>\n",
       "      <td>176</td>\n",
       "    </tr>\n",
       "    <tr>\n",
       "      <th>way</th>\n",
       "      <td>1036</td>\n",
       "      <td>879</td>\n",
       "      <td>157</td>\n",
       "    </tr>\n",
       "    <tr>\n",
       "      <th>saw</th>\n",
       "      <td>952</td>\n",
       "      <td>801</td>\n",
       "      <td>151</td>\n",
       "    </tr>\n",
       "    <tr>\n",
       "      <th>think</th>\n",
       "      <td>935</td>\n",
       "      <td>790</td>\n",
       "      <td>145</td>\n",
       "    </tr>\n",
       "    <tr>\n",
       "      <th>going</th>\n",
       "      <td>964</td>\n",
       "      <td>822</td>\n",
       "      <td>142</td>\n",
       "    </tr>\n",
       "  </tbody>\n",
       "</table>\n",
       "</div>"
      ],
      "text/plain": [
       "Sub Reddit  Fact  Fict  Abs Diff\n",
       "said        2338  1742       596\n",
       "time        2122  1529       593\n",
       "door        1434   875       559\n",
       "like        2769  2231       538\n",
       "man         1282   832       450\n",
       "know        1717  1400       317\n",
       "home         993   682       311\n",
       "room        1110   823       287\n",
       "day          949   670       279\n",
       "got         1086   850       236\n",
       "went        1042   813       229\n",
       "house        919   690       229\n",
       "away         949   721       228\n",
       "eyes        1108   894       214\n",
       "looked      1238  1028       210\n",
       "night       1019   843       176\n",
       "way         1036   879       157\n",
       "saw          952   801       151\n",
       "think        935   790       145\n",
       "going        964   822       142"
      ]
     },
     "execution_count": 57,
     "metadata": {},
     "output_type": "execute_result"
    }
   ],
   "source": [
    "#looking at the word counts side by side\n",
    "compare_df = feature_df.groupby(df['Sub Reddit']).sum()[common_words].T\n",
    "\n",
    "#absolute value of the difference\n",
    "compare_df['Abs Diff'] = abs(compare_df['Fact'] - compare_df['Fict'])\n",
    "\n",
    "#sorting by absolute value\n",
    "compare_df.sort_values('Abs Diff', ascending=False)"
   ]
  },
  {
   "cell_type": "code",
   "execution_count": 58,
   "metadata": {},
   "outputs": [
    {
     "data": {
      "image/png": "[encoded data removed]",
      "text/plain": [
       "<Figure size 864x432 with 1 Axes>"
      ]
     },
     "metadata": {
      "needs_background": "light"
     },
     "output_type": "display_data"
    }
   ],
   "source": [
    "#this is currently sorted by most used word\n",
    "fig, ax = plt.subplots(figsize= (12,6))\n",
    "\n",
    "feature_df.groupby(df['Sub Reddit']).sum()\\\n",
    "[common_words].T.plot.bar(ax=ax, width=1);"
   ]
  },
  {
   "cell_type": "markdown",
   "metadata": {},
   "source": [
    "**Looking at logistic regression `Coefficients`**"
   ]
  },
  {
   "cell_type": "code",
   "execution_count": 59,
   "metadata": {},
   "outputs": [
    {
     "data": {
      "text/plain": [
       "array([[-0.0294434 , -0.02794522, -0.03778212, ..., -0.00639718,\n",
       "        -0.11750176, -0.22500085]])"
      ]
     },
     "execution_count": 59,
     "metadata": {},
     "output_type": "execute_result"
    }
   ],
   "source": [
    "lr.coef_"
   ]
  },
  {
   "cell_type": "code",
   "execution_count": 60,
   "metadata": {},
   "outputs": [
    {
     "data": {
      "text/plain": [
       "(1055, 3094)"
      ]
     },
     "execution_count": 60,
     "metadata": {},
     "output_type": "execute_result"
    }
   ],
   "source": [
    "feature_df.shape"
   ]
  },
  {
   "cell_type": "code",
   "execution_count": 61,
   "metadata": {},
   "outputs": [
    {
     "name": "stdout",
     "output_type": "stream",
     "text": [
      "3094\n",
      "(1, 3094)\n",
      "(352,)\n"
     ]
    }
   ],
   "source": [
    "print(len(cv.get_feature_names()))\n",
    "print(lr.coef_.shape)\n",
    "print(lr_preds.shape)"
   ]
  },
  {
   "cell_type": "code",
   "execution_count": 78,
   "metadata": {},
   "outputs": [],
   "source": [
    "coef_nums = [num for num in range(len(lr_coefs))]"
   ]
  },
  {
   "cell_type": "code",
   "execution_count": 81,
   "metadata": {},
   "outputs": [
    {
     "data": {
      "text/html": [
       "<div>\n",
       "<style scoped>\n",
       "    .dataframe tbody tr th:only-of-type {\n",
       "        vertical-align: middle;\n",
       "    }\n",
       "\n",
       "    .dataframe tbody tr th {\n",
       "        vertical-align: top;\n",
       "    }\n",
       "\n",
       "    .dataframe thead th {\n",
       "        text-align: right;\n",
       "    }\n",
       "</style>\n",
       "<table border=\"1\" class=\"dataframe\">\n",
       "  <thead>\n",
       "    <tr style=\"text-align: right;\">\n",
       "      <th></th>\n",
       "      <th>index</th>\n",
       "      <th>abs_val</th>\n",
       "      <th>coefs</th>\n",
       "    </tr>\n",
       "  </thead>\n",
       "  <tbody>\n",
       "    <tr>\n",
       "      <th>case</th>\n",
       "      <td>0</td>\n",
       "      <td>0.723391</td>\n",
       "      <td>-0.723391</td>\n",
       "    </tr>\n",
       "    <tr>\n",
       "      <th>http</th>\n",
       "      <td>1</td>\n",
       "      <td>0.345458</td>\n",
       "      <td>-0.345458</td>\n",
       "    </tr>\n",
       "    <tr>\n",
       "      <th>family</th>\n",
       "      <td>2</td>\n",
       "      <td>0.337331</td>\n",
       "      <td>-0.337331</td>\n",
       "    </tr>\n",
       "    <tr>\n",
       "      <th>started</th>\n",
       "      <td>3</td>\n",
       "      <td>0.313092</td>\n",
       "      <td>0.313092</td>\n",
       "    </tr>\n",
       "    <tr>\n",
       "      <th>murder</th>\n",
       "      <td>4</td>\n",
       "      <td>0.305607</td>\n",
       "      <td>-0.305607</td>\n",
       "    </tr>\n",
       "    <tr>\n",
       "      <th>wiki</th>\n",
       "      <td>5</td>\n",
       "      <td>0.296047</td>\n",
       "      <td>-0.296047</td>\n",
       "    </tr>\n",
       "    <tr>\n",
       "      <th>saw</th>\n",
       "      <td>6</td>\n",
       "      <td>0.280565</td>\n",
       "      <td>0.280565</td>\n",
       "    </tr>\n",
       "    <tr>\n",
       "      <th>does</th>\n",
       "      <td>7</td>\n",
       "      <td>0.279300</td>\n",
       "      <td>-0.279300</td>\n",
       "    </tr>\n",
       "    <tr>\n",
       "      <th>like</th>\n",
       "      <td>8</td>\n",
       "      <td>0.278380</td>\n",
       "      <td>0.278380</td>\n",
       "    </tr>\n",
       "    <tr>\n",
       "      <th>read</th>\n",
       "      <td>9</td>\n",
       "      <td>0.277681</td>\n",
       "      <td>-0.277681</td>\n",
       "    </tr>\n",
       "    <tr>\n",
       "      <th>article</th>\n",
       "      <td>10</td>\n",
       "      <td>0.269100</td>\n",
       "      <td>-0.269100</td>\n",
       "    </tr>\n",
       "    <tr>\n",
       "      <th>story</th>\n",
       "      <td>11</td>\n",
       "      <td>0.268015</td>\n",
       "      <td>-0.268015</td>\n",
       "    </tr>\n",
       "    <tr>\n",
       "      <th>lane</th>\n",
       "      <td>12</td>\n",
       "      <td>0.267936</td>\n",
       "      <td>0.267936</td>\n",
       "    </tr>\n",
       "    <tr>\n",
       "      <th>tell</th>\n",
       "      <td>13</td>\n",
       "      <td>0.265349</td>\n",
       "      <td>0.265349</td>\n",
       "    </tr>\n",
       "    <tr>\n",
       "      <th>html</th>\n",
       "      <td>14</td>\n",
       "      <td>0.264234</td>\n",
       "      <td>-0.264234</td>\n",
       "    </tr>\n",
       "    <tr>\n",
       "      <th>post</th>\n",
       "      <td>15</td>\n",
       "      <td>0.263600</td>\n",
       "      <td>-0.263600</td>\n",
       "    </tr>\n",
       "    <tr>\n",
       "      <th>eyes</th>\n",
       "      <td>16</td>\n",
       "      <td>0.259737</td>\n",
       "      <td>0.259737</td>\n",
       "    </tr>\n",
       "    <tr>\n",
       "      <th>news</th>\n",
       "      <td>17</td>\n",
       "      <td>0.258158</td>\n",
       "      <td>-0.258158</td>\n",
       "    </tr>\n",
       "    <tr>\n",
       "      <th>later</th>\n",
       "      <td>18</td>\n",
       "      <td>0.251548</td>\n",
       "      <td>-0.251548</td>\n",
       "    </tr>\n",
       "    <tr>\n",
       "      <th>link</th>\n",
       "      <td>19</td>\n",
       "      <td>0.250251</td>\n",
       "      <td>-0.250251</td>\n",
       "    </tr>\n",
       "    <tr>\n",
       "      <th>en</th>\n",
       "      <td>20</td>\n",
       "      <td>0.242708</td>\n",
       "      <td>-0.242708</td>\n",
       "    </tr>\n",
       "    <tr>\n",
       "      <th>missing</th>\n",
       "      <td>21</td>\n",
       "      <td>0.241674</td>\n",
       "      <td>-0.241674</td>\n",
       "    </tr>\n",
       "    <tr>\n",
       "      <th>went</th>\n",
       "      <td>22</td>\n",
       "      <td>0.236672</td>\n",
       "      <td>0.236672</td>\n",
       "    </tr>\n",
       "    <tr>\n",
       "      <th>things</th>\n",
       "      <td>23</td>\n",
       "      <td>0.236611</td>\n",
       "      <td>0.236611</td>\n",
       "    </tr>\n",
       "    <tr>\n",
       "      <th>wikipedia</th>\n",
       "      <td>24</td>\n",
       "      <td>0.236399</td>\n",
       "      <td>-0.236399</td>\n",
       "    </tr>\n",
       "    <tr>\n",
       "      <th>year</th>\n",
       "      <td>25</td>\n",
       "      <td>0.232097</td>\n",
       "      <td>-0.232097</td>\n",
       "    </tr>\n",
       "    <tr>\n",
       "      <th>seen</th>\n",
       "      <td>26</td>\n",
       "      <td>0.227840</td>\n",
       "      <td>-0.227840</td>\n",
       "    </tr>\n",
       "    <tr>\n",
       "      <th>youtube</th>\n",
       "      <td>27</td>\n",
       "      <td>0.225001</td>\n",
       "      <td>-0.225001</td>\n",
       "    </tr>\n",
       "    <tr>\n",
       "      <th>mystery</th>\n",
       "      <td>28</td>\n",
       "      <td>0.218986</td>\n",
       "      <td>-0.218986</td>\n",
       "    </tr>\n",
       "    <tr>\n",
       "      <th>felt</th>\n",
       "      <td>29</td>\n",
       "      <td>0.214679</td>\n",
       "      <td>0.214679</td>\n",
       "    </tr>\n",
       "  </tbody>\n",
       "</table>\n",
       "</div>"
      ],
      "text/plain": [
       "           index   abs_val     coefs\n",
       "case           0  0.723391 -0.723391\n",
       "http           1  0.345458 -0.345458\n",
       "family         2  0.337331 -0.337331\n",
       "started        3  0.313092  0.313092\n",
       "murder         4  0.305607 -0.305607\n",
       "wiki           5  0.296047 -0.296047\n",
       "saw            6  0.280565  0.280565\n",
       "does           7  0.279300 -0.279300\n",
       "like           8  0.278380  0.278380\n",
       "read           9  0.277681 -0.277681\n",
       "article       10  0.269100 -0.269100\n",
       "story         11  0.268015 -0.268015\n",
       "lane          12  0.267936  0.267936\n",
       "tell          13  0.265349  0.265349\n",
       "html          14  0.264234 -0.264234\n",
       "post          15  0.263600 -0.263600\n",
       "eyes          16  0.259737  0.259737\n",
       "news          17  0.258158 -0.258158\n",
       "later         18  0.251548 -0.251548\n",
       "link          19  0.250251 -0.250251\n",
       "en            20  0.242708 -0.242708\n",
       "missing       21  0.241674 -0.241674\n",
       "went          22  0.236672  0.236672\n",
       "things        23  0.236611  0.236611\n",
       "wikipedia     24  0.236399 -0.236399\n",
       "year          25  0.232097 -0.232097\n",
       "seen          26  0.227840 -0.227840\n",
       "youtube       27  0.225001 -0.225001\n",
       "mystery       28  0.218986 -0.218986\n",
       "felt          29  0.214679  0.214679"
      ]
     },
     "execution_count": 81,
     "metadata": {},
     "output_type": "execute_result"
    }
   ],
   "source": [
    "lr_coefs = pd.DataFrame(lr.coef_, columns=cv.get_feature_names()).T\n",
    "\n",
    "lr_coefs.rename({0: 'coefs'}, axis=1, inplace=True)\n",
    "\n",
    "lr_coefs['abs_val'] = abs(lr_coefs['coefs'])\n",
    "\n",
    "lr_coefs.sort_values('abs_val', ascending=False, inplace=True)\n",
    "\n",
    "lr_coefs['index'] = coef_nums\n",
    "\n",
    "lr_coefs = lr_coefs[['index', 'abs_val', 'coefs']]\n",
    "\n",
    "#they are all negative until, meaning all of the first 29 indicate fact\n",
    "#the first to indicate fiction is 'felt'\n",
    "lr_coefs[:30]"
   ]
  },
  {
   "cell_type": "code",
   "execution_count": null,
   "metadata": {},
   "outputs": [],
   "source": []
  }
 ],
 "metadata": {
  "kernelspec": {
   "display_name": "Python 3",
   "language": "python",
   "name": "python3"
  },
  "language_info": {
   "codemirror_mode": {
    "name": "ipython",
    "version": 3
   },
   "file_extension": ".py",
   "mimetype": "text/x-python",
   "name": "python",
   "nbconvert_exporter": "python",
   "pygments_lexer": "ipython3",
   "version": "3.7.3"
  }
 },
 "nbformat": 4,
 "nbformat_minor": 2
}
